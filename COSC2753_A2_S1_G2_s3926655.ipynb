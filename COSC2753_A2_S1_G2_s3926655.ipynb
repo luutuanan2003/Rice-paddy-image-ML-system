{
 "cells": [
  {
   "cell_type": "code",
   "execution_count": null,
   "id": "f8c49049",
   "metadata": {},
   "outputs": [],
   "source": [
    "\n",
    "import os\n",
    "from collections import defaultdict\n",
    "import matplotlib.pyplot as plt\n",
    "\n",
    "# === Config ===\n",
    "IMG_DIR = \"train_images\"\n",
    "IMG_EXT = (\".jpg\", \".jpeg\", \".png\")\n",
    "\n",
    "# === Count images per class ===\n",
    "class_counts = defaultdict(int)\n",
    "\n",
    "for label in sorted(os.listdir(IMG_DIR)):\n",
    "    label_path = os.path.join(IMG_DIR, label)\n",
    "    if not os.path.isdir(label_path):\n",
    "        continue\n",
    "    count = sum(fname.lower().endswith(IMG_EXT) for fname in os.listdir(label_path))\n",
    "    class_counts[label] = count\n",
    "\n",
    "# === Print distribution ===\n",
    "print(\"📊 Class distribution:\")\n",
    "for label, count in class_counts.items():\n",
    "    print(f\"{label:30s}: {count} images\")\n",
    "\n",
    "min_count = min(class_counts.values())\n",
    "if min_count < 5:\n",
    "    print(f\"\\n WARNING: At least one class has fewer than 5 images (min = {min_count}) — stratified split may fail!\")\n",
    "else:\n",
    "    print(\"\\n All classes have sufficient images for stratified splitting.\")\n",
    "\n",
    "# === Plot bar chart ===\n",
    "labels = list(class_counts.keys())\n",
    "counts = [class_counts[label] for label in labels]\n",
    "\n",
    "plt.figure(figsize=(10, 6))\n",
    "bars = plt.bar(labels, counts)\n",
    "plt.xticks(rotation=45, ha=\"right\")\n",
    "plt.title(\"Class Distribution in train_images/\")\n",
    "plt.xlabel(\"Class Label\")\n",
    "plt.ylabel(\"Number of Images\")\n",
    "plt.tight_layout()\n",
    "\n",
    "# Optional: annotate bars with values\n",
    "for bar, count in zip(bars, counts):\n",
    "    plt.text(bar.get_x() + bar.get_width() / 2, bar.get_height(), str(count), ha='center', va='bottom', fontsize=9)\n",
    "\n",
    "plt.show()"
   ]
  }
 ],
 "metadata": {
  "kernelspec": {
   "display_name": "Python (dl_env)",
   "language": "python",
   "name": "dl_env"
  },
  "language_info": {
   "codemirror_mode": {
    "name": "ipython",
    "version": 3
   },
   "file_extension": ".py",
   "mimetype": "text/x-python",
   "name": "python",
   "nbconvert_exporter": "python",
   "pygments_lexer": "ipython3",
   "version": "3.8.18"
  }
 },
 "nbformat": 4,
 "nbformat_minor": 5
}
